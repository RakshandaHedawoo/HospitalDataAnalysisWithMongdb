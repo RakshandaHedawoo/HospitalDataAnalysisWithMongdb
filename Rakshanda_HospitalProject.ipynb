{
 "cells": [
  {
   "cell_type": "markdown",
   "id": "4fa3edca",
   "metadata": {},
   "source": [
    "# Fredrick Hospital Data Analysis\n",
    "\n",
    "In today's data-driven world, organizations face the challenge of effectively managing vast amounts of data generated within their systems. This project focuses on addressing this challenge by utilizing JSON (JavaScript Object Notation) as a flexible and efficient data storage format. The provided JSON file showcases a nested data structure with multiple levels of nesting and arrays containing diverse sets of values. While the observations within the JSON file are limited for practical reasons, the structure exemplifies the scalability and versatility of JSON for managing large datasets. Through this project, we explore the power of JSON in organizing complex data hierarchies and facilitating seamless data management processes for Fredrick Hospital.  \n",
    "Let's start by importing two important libraries *pymongo* and *json* which will help us to establish connection with the mongo database and import our json data file."
   ]
  },
  {
   "cell_type": "code",
   "execution_count": null,
   "id": "233fb4c3",
   "metadata": {},
   "outputs": [],
   "source": [
    "#importing library\n",
    "import pymongo\n",
    "import json\n",
    "\n",
    "#This is generally used when u install mongodb on your machine\n",
    "myclient = pymongo.MongoClient(\"mongodb://localhost:27017/\")\n",
    "\n",
    "\n",
    "#Creating a collection named hospital inside the database budt503\n",
    "hospital = myclient.budt503.hospital\n",
    "\n",
    " \n",
    "# Loading or Opening the json file\n",
    "with open('HospitalData.json') as file:\n",
    "    file_data = json.load(file)\n",
    "    \n",
    "hospital.insert_many(file_data) "
   ]
  },
  {
   "cell_type": "markdown",
   "id": "f0fdbf8f",
   "metadata": {},
   "source": [
    "### Now that we have created a hospital collection in our mongo database, let's check whether the database was created successfully by displaying all the collections that we have in our database budt503"
   ]
  },
  {
   "cell_type": "code",
   "execution_count": 35,
   "id": "525f38b1",
   "metadata": {},
   "outputs": [
    {
     "data": {
      "text/plain": [
       "['custcol', 'student', 'stulist', 'hospital', 'ecommerce', 'custcollection']"
      ]
     },
     "execution_count": 35,
     "metadata": {},
     "output_type": "execute_result"
    }
   ],
   "source": [
    "myclient.budt503.list_collection_names()"
   ]
  },
  {
   "cell_type": "markdown",
   "id": "7d05c513",
   "metadata": {},
   "source": [
    "## Inserting documents in collection:\n",
    "\n",
    "Lets now insert some additional missed out data in our collection. This can be done using two fucntions:  \n",
    "\n",
    "### 1. collection.insert_one()\n"
   ]
  },
  {
   "cell_type": "code",
   "execution_count": 4,
   "id": "65025db2",
   "metadata": {},
   "outputs": [
    {
     "data": {
      "text/plain": [
       "InsertOneResult(ObjectId('65c691c31d998f9730c3324a'), acknowledged=True)"
      ]
     },
     "execution_count": 4,
     "metadata": {},
     "output_type": "execute_result"
    }
   ],
   "source": [
    "document = {\"Patient\":{\"PersonalDetails\":{\"FirstName\":\"James\",\n",
    "                                \"LastName\":\"Lebron\",\n",
    "                                \"Age\":40,\n",
    "                                \"BirthDate\":\"03/03/1990\",\n",
    "                                \"Sex\":\"Male\",\n",
    "                                \"Address\":[{\"Home\":{\"Street\":\"67 Pen Road\",\n",
    "                                            \"State\":{\"Name\":\"NewYork\",\"Zip\":\"45621\"},\n",
    "                                            \"City\":\"Brigmham\",\n",
    "                                            \"Country\":\"USA\"\n",
    "                                }}],\n",
    "                                \"ContactNumber\":[\"+12404821562\"],\n",
    "                                \"Emailid\":\"jameslebro09@gmail.com\",\n",
    "                                \"EmergencyContact\":{\"Dependent\":\"No\",\n",
    "                                                    \"GuardianFirstName\":\"Jessica\",\n",
    "                                                    \"GuardianLastName\":\"Lebron\",\n",
    "                                                    \"Relationship\":\"Wife\",\n",
    "                                                    \"Address\":[{\"Home\":{\"Street\":\"67 Pen Road\",\n",
    "                                                                \"State\":{\"Name\":\"NewYork\",\"Zip\":\"45621\"},\n",
    "                                                                \"City\":\"Brigmham\",\n",
    "                                                                \"Country\":\"USA\"\n",
    "                                                    }}],\n",
    "                                                    \"ContactNumber\":[\"+12456327895\"]\n",
    "                                }\n",
    "            },\n",
    "            \"HealthDetails\":{\"BloodGroup\":\"A-\",\n",
    "                            \"Height\":\"6.5ft\",\n",
    "                            \"Weight\":\"80kg\",\n",
    "                            \"BMI\":{\"Value\":20.9,\"Status\":\"Normal\"},\n",
    "                            \"CurrentMedicalStatus\":{\"Reason\":\"Hand Fracture\",\n",
    "                                                    \"Payment\":{\"CreditCardNumber\":\"789545862543\",\n",
    "                                                                \"Company\":\"Bank Of America\",\n",
    "                                                                \"ExpiryDate\":\"12/30\",\n",
    "                                                                \"CVV\":963,\n",
    "                                                                \"Amount\":1000,\n",
    "                                                               \"Status\":\"Paid\"\n",
    "                                                    },\n",
    "                                                    \"Admitted\":{\"BuildingNumber\":\"M1\",\n",
    "                                                                \"WardNumber\":\"6\",\n",
    "                                                                \"Type\":\"General\",\n",
    "                                                                \"DateofAdmit\":\"01/30/2024\",\n",
    "                                                                \"DateofRelease\":\"01/31/2024\"\n",
    "                                                    },\n",
    "                                                    \"Pharmacy\":{\"Medicines\":[\"Pain Killers\",\"Arm Wrap Belt\"],\n",
    "                                                                \"Bill\":{\"Amount\":100,\n",
    "                                                                        \"Paid\":\"Yes\"\n",
    "                                                                }\n",
    "                                                    }\n",
    "                            }\n",
    "                            \n",
    "            },\n",
    "            \"DoctorAppointed\":{\"FirstName\":\"Gary\",\n",
    "                                \"LastName\":\"Magro\",\n",
    "                                \"Prefix\":\"OD\",\n",
    "                                \"ContactNumber\":[\"+130124568796\"],\n",
    "                                \"Emailid\":\"garythebonedoctor@gmail.com\",\n",
    "                                \"HistoryWithPatient\":{\"AppointedDate\":\"01/30/2024\",\n",
    "                                                        \"Follow-up\":\"Yes\",\n",
    "                                                        \"NextFollowup\":\"02/10/2024\",\n",
    "                                                        \"FollowupEmailSent\":\"Yes\"\n",
    "                                }\n",
    "            }\n",
    "}}\n",
    "hospital.insert_one(document)"
   ]
  },
  {
   "cell_type": "markdown",
   "id": "ece8a835",
   "metadata": {},
   "source": [
    "### 2. collection.insert_many()"
   ]
  },
  {
   "cell_type": "code",
   "execution_count": 5,
   "id": "753f9af6",
   "metadata": {},
   "outputs": [
    {
     "data": {
      "text/plain": [
       "InsertManyResult([ObjectId('65c691c51d998f9730c3324b'), ObjectId('65c691c51d998f9730c3324c'), ObjectId('65c691c51d998f9730c3324d'), ObjectId('65c691c51d998f9730c3324e')], acknowledged=True)"
      ]
     },
     "execution_count": 5,
     "metadata": {},
     "output_type": "execute_result"
    }
   ],
   "source": [
    "multiple_paitients = [{\"Patient\":{\"PersonalDetails\":{\"FirstName\":\"Ellen\",\n",
    "                                \"LastName\":\"Geller\",\n",
    "                                \"Age\":45,\n",
    "                                \"BirthDate\":\"11/11/1980\",\n",
    "                                \"Sex\":\"Female\",\n",
    "                                \"Address\":[{\"Home\":{\"Street\":\"90 Chilatey Ave\",\n",
    "                                            \"Apt\":\"4C\",\n",
    "                                            \"State\":{\"Name\":\"Texas\",\"Zip\":\"30258\"},\n",
    "                                            \"City\":\"Austin\",\n",
    "                                            \"Country\":\"USA\"\n",
    "                                }}],\n",
    "                                \"ContactNumber\":[\"+12404821562\"],\n",
    "                                \"Emailid\":\"ellenhere45@gmail.com\",\n",
    "                                \"EmergencyContact\":{\"Dependent\":\"No\",\n",
    "                                                    \"GuardianFirstName\":\"John\",\n",
    "                                                    \"GuardianLastName\":\"Geller\",\n",
    "                                                    \"Relationship\":\"Husband\",\n",
    "                                                    \"Address\":[{\"Home\":{\"Street\":\"90 Chilatey Sve\",\n",
    "                                                                \"Apt\":\"4C\",\n",
    "                                                                \"State\":{\"Name\":\"Texas\",\"Zip\":\"30258\"},\n",
    "                                                                \"City\":\"Austin\",\n",
    "                                                                \"Country\":\"USA\"\n",
    "                                                    }}],\n",
    "                                                    \"ContactNumber\":[\"+12456327895\"]\n",
    "                                }\n",
    "            },\n",
    "            \"HealthDetails\":{\"BloodGroup\":\"B-\",\n",
    "                            \"Height\":\"5.5ft\",\n",
    "                            \"Weight\":\"60kg\",\n",
    "                            \"BMI\":{\"Value\":22,\"Status\":\"Normal\"},\n",
    "                            \"MedicalHistory\":[\"Eye Sight Loss\",\"Back Pain\"],\n",
    "                            \"CurrentMedicalStatus\":{\"Reason\":\"Leg Pain\",\n",
    "                                                    \"Payment\":{\"CreditCardNumber\":\"3214569786325416\",\n",
    "                                                                \"Company\":\"JP Morgan Chase\",\n",
    "                                                                \"ExpiryDate\":\"10/35\",\n",
    "                                                                \"CVV\":951,\n",
    "                                                               \"Amount\":50,\n",
    "                                                                \"Status\":\"Paid\"\n",
    "                                                    },\n",
    "                                                    \"Pharmacy\":{\"Medicines\":[\"Pain Killers\"],\n",
    "                                                                \"Bill\":{\"Amount\":10,\n",
    "                                                                        \"Paid\":\"Yes\"\n",
    "                                                                }\n",
    "                                                    }\n",
    "                            }\n",
    "                            \n",
    "            },\n",
    "            \"InsuranceDetails\":[{\"PrimaryInsurance\":{\"InsuranceCompanyName\":\"Medicare\",\n",
    "                                \"NameofInsured\":\"John Geller\",\n",
    "                                \"Relationship\":\"Husband\",\n",
    "                                \"DOB\":\"02/02/1970\",\n",
    "                                \"Policy#\":\"JG45697562\",\n",
    "                                \"SSN\":\"7896541236589\"\n",
    "                                }}],\n",
    "            \"DoctorAppointed\":{\"FirstName\":\"Gary\",\n",
    "                                \"LastName\":\"Magro\",\n",
    "                                \"Prefix\":\"OD\",\n",
    "                                \"ContactNumber\":[\"+130124568796\"],\n",
    "                                \"Emailid\":\"garythebonedoctor@gmail.com\",\n",
    "                                \"HistoryWithPatient\":{\"AppointedDate\":\"02/8/2024\",\n",
    "                                                        \"Follow-up\":\"No\"\n",
    "                                }\n",
    "            }\n",
    "}},\n",
    "                     {\"Patient\": {\"PersonalDetails\": {\"FirstName\": \"Sarah\",\n",
    "                                                      \"LastName\": \"Johnson\",\n",
    "      \"Age\": 28,\n",
    "      \"BirthDate\": \"09/15/1996\",\n",
    "      \"Sex\": \"Female\",\n",
    "      \"Address\": [\n",
    "        {\n",
    "          \"Home\": {\n",
    "            \"Street\": \"123 Pine Street\",\n",
    "            \"State\": {\n",
    "              \"Name\": \"California\",\n",
    "              \"Zip\": \"90210\"\n",
    "            },\n",
    "            \"City\": \"Los Angeles\",\n",
    "            \"Country\": \"USA\"\n",
    "          }\n",
    "        }\n",
    "      ],\n",
    "      \"ContactNumber\": [\"+13234567890\"],\n",
    "      \"Emailid\": \"sarah.johnson@example.com\",\n",
    "      \"EmergencyContact\": {\n",
    "        \"Dependent\": \"No\",\n",
    "        \"GuardianFirstName\": \"Michael\",\n",
    "        \"GuardianLastName\": \"Johnson\",\n",
    "        \"Relationship\": \"Brother\",\n",
    "        \"Address\": [\n",
    "          {\n",
    "            \"Home\": {\n",
    "              \"Street\": \"123 Pine Street\",\n",
    "              \"State\": {\n",
    "                \"Name\": \"California\",\n",
    "                \"Zip\": \"90210\"\n",
    "              },\n",
    "              \"City\": \"Los Angeles\",\n",
    "              \"Country\": \"USA\"\n",
    "            }\n",
    "          }\n",
    "        ],\n",
    "        \"ContactNumber\": [\"+13234567891\"]\n",
    "      }\n",
    "    },\n",
    "    \"HealthDetails\": {\n",
    "      \"BloodGroup\": \"O+\",\n",
    "      \"Height\": \"5.8ft\",\n",
    "      \"Weight\": \"65kg\",\n",
    "      \"BMI\": {\n",
    "        \"Value\": 21.7,\n",
    "        \"Status\": \"Normal\"\n",
    "      },\n",
    "      \"CurrentMedicalStatus\": {\n",
    "        \"Reason\": \"Allergic reaction\",\n",
    "        \"Payment\": {\n",
    "          \"CreditCardNumber\": \"456789012345\",\n",
    "          \"Company\": \"Chase Bank\",\n",
    "          \"ExpiryDate\": \"09/25\",\n",
    "          \"CVV\": 789,\n",
    "          \"Amount\":500,\n",
    "          \"Status\": \"Due\"\n",
    "        },\n",
    "        \"Admitted\": {\n",
    "          \"BuildingNumber\": \"B2\",\n",
    "          \"WardNumber\": \"4\",\n",
    "          \"Type\": \"Emergency\",\n",
    "          \"DateofAdmit\": \"02/05/2024\",\n",
    "          \"DateofRelease\": \"02/07/2024\"\n",
    "        },\n",
    "        \"Pharmacy\": {\n",
    "          \"Medicines\": [\"Antihistamines\", \"EpiPen\"],\n",
    "          \"Bill\": {\n",
    "            \"Amount\": 200,\n",
    "            \"Paid\": \"Yes\"\n",
    "          }\n",
    "        }\n",
    "      }\n",
    "    },\n",
    "    \"DoctorAppointed\": {\n",
    "      \"FirstName\": \"Emily\",\n",
    "      \"LastName\": \"Smith\",\n",
    "      \"Prefix\": \"MD\",\n",
    "      \"ContactNumber\": [\"+14567890123\"],\n",
    "      \"Emailid\": \"emilysmithmd@example.com\",\n",
    "      \"HistoryWithPatient\": {\n",
    "        \"AppointedDate\": \"02/05/2024\",\n",
    "        \"Follow-up\": \"No\",\n",
    "        \"NextFollowup\": \"\",\n",
    "        \"FollowupEmailSent\": \"No\"\n",
    "      }\n",
    "    }\n",
    "  }\n",
    "},\n",
    "    {\n",
    "  \"Patient\": {\n",
    "    \"PersonalDetails\": {\n",
    "      \"FirstName\": \"John\",\n",
    "      \"LastName\": \"Doe\",\n",
    "      \"Age\": 35,\n",
    "      \"BirthDate\": \"05/20/1989\",\n",
    "      \"Sex\": \"Male\",\n",
    "      \"Address\": [\n",
    "        {\n",
    "          \"Home\": {\n",
    "            \"Street\": \"789 Oak Avenue\",\n",
    "            \"State\": {\n",
    "              \"Name\": \"Texas\",\n",
    "              \"Zip\": \"75001\"\n",
    "            },\n",
    "            \"City\": \"Dallas\",\n",
    "            \"Country\": \"USA\"\n",
    "          }\n",
    "        }\n",
    "      ],\n",
    "      \"ContactNumber\": [\"+15551234567\"],\n",
    "      \"Emailid\": \"johndoe@example.com\",\n",
    "      \"EmergencyContact\": {\n",
    "        \"Dependent\": \"Yes\",\n",
    "        \"GuardianFirstName\": \"Alice\",\n",
    "        \"GuardianLastName\": \"Doe\",\n",
    "        \"Relationship\": \"Spouse\",\n",
    "        \"Address\": [\n",
    "          {\n",
    "            \"Home\": {\n",
    "              \"Street\": \"789 Oak Avenue\",\n",
    "              \"State\": {\n",
    "                \"Name\": \"Texas\",\n",
    "                \"Zip\": \"75001\"\n",
    "              },\n",
    "              \"City\": \"Dallas\",\n",
    "              \"Country\": \"USA\"\n",
    "            }\n",
    "          }\n",
    "        ],\n",
    "        \"ContactNumber\": [\"+15551234568\"]\n",
    "      }\n",
    "    },\n",
    "    \"HealthDetails\": {\n",
    "      \"BloodGroup\": \"AB-\",\n",
    "      \"Height\": \"6.2ft\",\n",
    "      \"Weight\": \"75kg\",\n",
    "      \"BMI\": {\n",
    "        \"Value\": 18.7,\n",
    "        \"Status\": \"Underweight\"\n",
    "      },\n",
    "      \"CurrentMedicalStatus\": {\n",
    "        \"Reason\": \"Respiratory infection\",\n",
    "        \"Payment\": {\n",
    "          \"CreditCardNumber\": \"987654321098\",\n",
    "          \"Company\": \"Wells Fargo\",\n",
    "          \"ExpiryDate\": \"03/27\",\n",
    "          \"CVV\": 456,\n",
    "          \"Amount\": 300,\n",
    "          \"Status\": \"Paid\"\n",
    "        },\n",
    "        \"Admitted\": {\n",
    "          \"BuildingNumber\": \"C3\",\n",
    "          \"WardNumber\": \"8\",\n",
    "          \"Type\": \"Isolation\",\n",
    "          \"DateofAdmit\": \"02/01/2024\",\n",
    "          \"DateofRelease\": \"02/07/2024\"\n",
    "        },\n",
    "        \"Pharmacy\": {\n",
    "          \"Medicines\": [\"Antibiotics\", \"Cough syrup\"],\n",
    "          \"Bill\": {\n",
    "            \"Amount\": 150,\n",
    "            \"Paid\": \"Yes\"\n",
    "          }\n",
    "        }\n",
    "      }\n",
    "    },\n",
    "    \"DoctorAppointed\": {\n",
    "      \"FirstName\": \"David\",\n",
    "      \"LastName\": \"Brown\",\n",
    "      \"Prefix\": \"MD\",\n",
    "      \"ContactNumber\": [\"+16666666666\"],\n",
    "      \"Emailid\": \"davidbrownmd@example.com\",\n",
    "      \"HistoryWithPatient\": {\n",
    "        \"AppointedDate\": \"02/01/2024\",\n",
    "        \"Follow-up\": \"Yes\",\n",
    "        \"NextFollowup\": \"02/10/2024\",\n",
    "        \"FollowupEmailSent\": \"Yes\"\n",
    "      }\n",
    "    }\n",
    "  }\n",
    "},\n",
    "    {\n",
    "  \"Patient\": {\n",
    "    \"PersonalDetails\": {\n",
    "      \"FirstName\": \"Emily\",\n",
    "      \"LastName\": \"Williams\",\n",
    "      \"Age\": 45,\n",
    "      \"BirthDate\": \"12/10/1979\",\n",
    "      \"Sex\": \"Female\",\n",
    "      \"Address\": [\n",
    "        {\n",
    "          \"Home\": {\n",
    "            \"Street\": \"321 Birch Lane\",\n",
    "            \"State\": {\n",
    "              \"Name\": \"Florida\",\n",
    "              \"Zip\": \"33101\"\n",
    "            },\n",
    "            \"City\": \"Miami\",\n",
    "            \"Country\": \"USA\"\n",
    "          }\n",
    "        }\n",
    "      ],\n",
    "      \"ContactNumber\": [\"+17891234567\"],\n",
    "      \"Emailid\": \"emily.williams@example.com\",\n",
    "      \"EmergencyContact\": {\n",
    "        \"Dependent\": \"No\",\n",
    "        \"GuardianFirstName\": \"Michael\",\n",
    "        \"GuardianLastName\": \"Williams\",\n",
    "        \"Relationship\": \"Brother\",\n",
    "        \"Address\": [\n",
    "          {\n",
    "            \"Home\": {\n",
    "              \"Street\": \"321 Birch Lane\",\n",
    "              \"State\": {\n",
    "                \"Name\": \"Florida\",\n",
    "                \"Zip\": \"33101\"\n",
    "              },\n",
    "              \"City\": \"Miami\",\n",
    "              \"Country\": \"USA\"\n",
    "            }\n",
    "          }\n",
    "        ],\n",
    "        \"ContactNumber\": [\"+17891234568\"]\n",
    "      }\n",
    "    },\n",
    "    \"HealthDetails\": {\n",
    "      \"BloodGroup\": \"B+\",\n",
    "      \"Height\": \"5.6ft\",\n",
    "      \"Weight\": \"68kg\",\n",
    "      \"BMI\": {\n",
    "        \"Value\": 24.6,\n",
    "        \"Status\": \"Overweight\"\n",
    "      },\n",
    "      \"CurrentMedicalStatus\": {\n",
    "        \"Reason\": \"High blood pressure\",\n",
    "        \"Payment\": {\n",
    "          \"CreditCardNumber\": \"123456789012\",\n",
    "          \"Company\": \"Citibank\",\n",
    "          \"ExpiryDate\": \"08/29\",\n",
    "          \"CVV\": 789,\n",
    "          \"Amount\": 700,\n",
    "          \"Status\": \"Paid\"\n",
    "        },\n",
    "        \"Admitted\": {\n",
    "          \"BuildingNumber\": \"A1\",\n",
    "          \"WardNumber\": \"3\",\n",
    "          \"Type\": \"Cardiology\",\n",
    "          \"DateofAdmit\": \"02/03/2024\",\n",
    "          \"DateofRelease\": \"02/06/2024\"\n",
    "        },\n",
    "        \"Pharmacy\": {\n",
    "          \"Medicines\": [\"Blood pressure medication\", \"Diuretics\"],\n",
    "          \"Bill\": {\n",
    "            \"Amount\": 250,\n",
    "            \"Paid\": \"Yes\"\n",
    "          }\n",
    "        }\n",
    "      }\n",
    "    },\n",
    "    \"DoctorAppointed\": {\n",
    "      \"FirstName\": \"Jennifer\",\n",
    "      \"LastName\": \"Clark\",\n",
    "      \"Prefix\": \"MD\",\n",
    "      \"ContactNumber\": [\"+18881234567\"],\n",
    "      \"Emailid\": \"jenniferclarkmd@example.com\",\n",
    "      \"HistoryWithPatient\": {\n",
    "        \"AppointedDate\": \"02/03/2024\",\n",
    "        \"Follow-up\": \"Yes\",\n",
    "        \"NextFollowup\": \"02/12/2024\",\n",
    "        \"FollowupEmailSent\": \"No\"\n",
    "      }\n",
    "    }\n",
    "  }\n",
    "}]\n",
    "\n",
    "hospital.insert_many(multiple_paitients)"
   ]
  },
  {
   "cell_type": "markdown",
   "id": "9f4aa1a4",
   "metadata": {},
   "source": [
    "## Deleting documents from collection:\n",
    "\n",
    "Lets now delete some data based on particular conditions from our collection. This can be done using two fucntions:  \n",
    "\n",
    "### 1. collection.delete_one()\n",
    "Here we will find a patient named Emily, whose blood group should be B+ and she was released from the hospital on 02/06/2024"
   ]
  },
  {
   "cell_type": "code",
   "execution_count": 6,
   "id": "87d5735c",
   "metadata": {},
   "outputs": [
    {
     "data": {
      "text/plain": [
       "DeleteResult({'n': 1, 'ok': 1.0}, acknowledged=True)"
      ]
     },
     "execution_count": 6,
     "metadata": {},
     "output_type": "execute_result"
    }
   ],
   "source": [
    "hospital.delete_one({\"Patient.PersonalDetails.FirstName\":\"Emily\",\"Patient.HealthDetails.BloodGroup\":\"B+\",\n",
    "                            \"Patient.HealthDetails.CurrentMedicalStatus.Admitted.DateofRelease\":\"02/06/2024\"})"
   ]
  },
  {
   "cell_type": "markdown",
   "id": "9380c0d9",
   "metadata": {},
   "source": [
    "### 2. collection.delete_many()\n",
    "Now that we learned how to delete one document, delete_many() function helps us to delete multiple documents based on certain conditions. For example, here we need to delete those patients who have paid their pharmacy bill and have been released from hospital at the end of January."
   ]
  },
  {
   "cell_type": "code",
   "execution_count": 7,
   "id": "f85b86bd",
   "metadata": {},
   "outputs": [
    {
     "data": {
      "text/plain": [
       "DeleteResult({'n': 1, 'ok': 1.0}, acknowledged=True)"
      ]
     },
     "execution_count": 7,
     "metadata": {},
     "output_type": "execute_result"
    }
   ],
   "source": [
    "hospital.delete_many({\"Patient.HealthDetails.CurrentMedicalStatus.Pharmacy.Bill.Paid\":\"Yes\",\n",
    "                      \"Patient.HealthDetails.CurrentMedicalStatus.Admitted.DateofRelease\":\"01/31/2024\"})"
   ]
  },
  {
   "cell_type": "markdown",
   "id": "b5e0a279",
   "metadata": {},
   "source": [
    "## Updating documents from collection:\n",
    "The next step is learning how to find a particular document using some conditions and updating the data for that document. This can be done is two ways:\n",
    "\n",
    "### 1. collection.update_one()\n",
    "For example, first we will find a patient whose first name is John and was going to be released from the hospital at 02/07/2024, but as his infection got severe will will update his date of release to 02/12/2024 and add a note for the same."
   ]
  },
  {
   "cell_type": "code",
   "execution_count": 8,
   "id": "24e3dbaf",
   "metadata": {},
   "outputs": [
    {
     "data": {
      "text/plain": [
       "UpdateResult({'n': 1, 'nModified': 1, 'ok': 1.0, 'updatedExisting': True}, acknowledged=True)"
      ]
     },
     "execution_count": 8,
     "metadata": {},
     "output_type": "execute_result"
    }
   ],
   "source": [
    "hospital.update_one({\"Patient.PersonalDetails.FirstName\":\"John\",\n",
    "                     \"Patient.HealthDetails.CurrentMedicalStatus.Admitted.DateofRelease\":\"02/07/2024\"},\n",
    "                    {\"$set\":{\"Patient.HealthDetails.CurrentMedicalStatus.Admitted.DateofRelease\":\"02/12/2024\",\n",
    "                             \"Patient.HealthDetails.CurrentMedicalStatus.Admitted.Note\":\"Infection got severe\"}})"
   ]
  },
  {
   "cell_type": "markdown",
   "id": "b222bb83",
   "metadata": {},
   "source": [
    "### 2. collection.update_many()\n",
    "For this, lets take a complex example where we will use multiple conditions using logical operators to find the documents and then update all of them. So here, we will either search for a patient whose sex is Male or a patient whose BMI indicates that the are underweight. For these patients we need to assign an additional doctor who is a nutritionist and her details are given below:   \n",
    "                                \"FirstName\":\"Kinjal\"   \n",
    "                                \"LastName\":\"Mehta\"   \n",
    "                                \"Prefix\":\"Nutritionist\"   \n",
    "                                \"ContactNumber\":[\"+130124568796\"]   \n",
    "                                \"Emailid\":\"kinjalthenutritionist@gmail.com\"   \n",
    "                                \"HistoryWithPatient\":\"AppointedDate\":\"02/09/2024\""
   ]
  },
  {
   "cell_type": "code",
   "execution_count": 9,
   "id": "704d94e5",
   "metadata": {},
   "outputs": [
    {
     "data": {
      "text/plain": [
       "UpdateResult({'n': 4, 'nModified': 4, 'ok': 1.0, 'updatedExisting': True}, acknowledged=True)"
      ]
     },
     "execution_count": 9,
     "metadata": {},
     "output_type": "execute_result"
    }
   ],
   "source": [
    "hospital.update_many({\"$or\":[{\"Patient.PersonalDetails.Sex\":\"Male\"},{\"Patient.HealthDetails.BMI.Status\":\"Underweight\"}]},\n",
    "                    {\"$set\":{\"Patient.AdditionalDoctorAppointed\":{\"FirstName\":\"Kinjal\",\n",
    "                                \"LastName\":\"Mehta\",\n",
    "                                \"Prefix\":\"Nutritionist\",\n",
    "                                \"ContactNumber\":[\"+130124568796\"],\n",
    "                                \"Emailid\":\"kinjalthenutritionist@gmail.com\",\n",
    "                                \"HistoryWithPatient\":{\"AppointedDate\":\"02/09/2024\"}}}})"
   ]
  },
  {
   "cell_type": "markdown",
   "id": "25b43178",
   "metadata": {},
   "source": [
    "## Searching for documents in collection:"
   ]
  },
  {
   "cell_type": "code",
   "execution_count": 10,
   "id": "19b4a154",
   "metadata": {},
   "outputs": [
    {
     "name": "stdout",
     "output_type": "stream",
     "text": [
      "{'_id': ObjectId('65c691bd1d998f9730c33247'), 'Patient': {'PersonalDetails': {'FirstName': 'Dobby', 'LastName': 'Sky', 'Age': 18, 'BirthDate': '01/01/2007', 'Sex': 'Male', 'Address': [{'Home': {'Street': '123 Elm Street', 'State': {'Name': 'Illinois', 'Zip': '62701'}, 'City': 'Springfield', 'Country': 'USA'}}], 'ContactNumber': ['+12404821562', '+13015247896'], 'Emailid': 'dobbyisfree@gmail.com', 'EmergencyContact': {'Dependent': 'Yes', 'GuardianFirstName': 'Harry', 'GuardianLastName': 'Potter', 'Relationship': 'Friend', 'Address': [{'Home': {'Street': '456 Maple Avenue', 'State': {'Name': 'Illinois', 'Zip': '62701'}, 'City': 'Springfield', 'Country': 'USA'}}], 'ContactNumber': ['+12456327895']}}, 'HealthDetails': {'BloodGroup': 'O+', 'Height': '5ft', 'Weight': '60kg', 'BMI': {'Value': 22, 'Status': 'Normal'}, 'MedicalHistory': ['Asthma', 'Bad Teeth'], 'CurrentMedicalStatus': {'Reason': 'Fever,Malaria', 'Admitted': {'BuildingNumber': 'S3', 'WardNumber': '2', 'Type': 'General', 'DateofAdmit': '02/08/2024', 'DateofRelease': '02/18/2024'}, 'Payment': {'CreditCardNumber': '789545862543', 'Company': 'Bank Of America', 'ExpiryDate': '12/30', 'CVV': 789, 'Amount': 240, 'Status': 'Due'}, 'Pharmacy': {'Medicines': ['Litol', 'phosphase78', 'sugartui12'], 'Bill': {'Amount': 100, 'Paid': 'Yes'}}}}, 'InsuranceDetails': [{'PrimaryInsurance': {'InsuranceCompanyName': 'Healthcare', 'NameofInsured': 'Dobby Shashank', 'Relationship': 'Self', 'DOB': '01/01/2007', 'Policy#': 'AUHJ12345', 'SSN': '1238567894'}}, {'SecondaryInsurance': {'InsuranceCompanyName': 'MediLife', 'NameofInsured': 'Harry Potter', 'Relationship': 'Friend', 'DOB': '05/09/1999', 'Policy#': 'HPOTT654332', 'SSN': '12578456931'}}], 'DoctorAppointed': {'FirstName': 'Ashwini', 'LastName': 'Devi', 'Prefix': 'MD', 'ContactNumber': ['+130124568796'], 'Emailid': 'drashdevi23@gmail.com', 'HistoryWithPatient': {'AppointedDate': '02/01/2024', 'Follow-up': 'Yes', 'NextFollowup': '02/12/2024', 'FollowupEmailSent': 'No'}}, 'AdditionalDoctorApoointed': {'FirstName': 'Kinjal', 'LastName': 'Mehta', 'Prefix': 'Nutritionist', 'ContactNumber': ['+130124568796'], 'Emailid': 'kinjalthenutritionist@gmail.com', 'HistoryWithPatient': {'AppointedDate': '02/09/2024'}}}}\n"
     ]
    }
   ],
   "source": [
    "result = hospital.find_one({\"$and\":[{\"Patient.DoctorAppointed.HistoryWithPatient.Follow-up\":\"Yes\"},\n",
    "                          {\"$or\":[{\"Patient.DoctorAppointed.FirstName\":\"Ashwini\"},\n",
    "                                  {\"Patient.HealthDetails.CurrentMedicalStatus.Admitted.Type\":\"General\"}]}]})\n",
    "print(result)"
   ]
  },
  {
   "cell_type": "markdown",
   "id": "6dd1d1c7",
   "metadata": {},
   "source": [
    "#viii) Sorting the document based on any two fields (One field in ascending and other field in descending order) (2 points)"
   ]
  },
  {
   "cell_type": "code",
   "execution_count": 11,
   "id": "483cf184",
   "metadata": {},
   "outputs": [
    {
     "name": "stdout",
     "output_type": "stream",
     "text": [
      "{'_id': ObjectId('65c691bd1d998f9730c33247'), 'Patient': {'PersonalDetails': {'FirstName': 'Dobby', 'LastName': 'Sky', 'Age': 18, 'BirthDate': '01/01/2007', 'Sex': 'Male', 'Address': [{'Home': {'Street': '123 Elm Street', 'State': {'Name': 'Illinois', 'Zip': '62701'}, 'City': 'Springfield', 'Country': 'USA'}}], 'ContactNumber': ['+12404821562', '+13015247896'], 'Emailid': 'dobbyisfree@gmail.com', 'EmergencyContact': {'Dependent': 'Yes', 'GuardianFirstName': 'Harry', 'GuardianLastName': 'Potter', 'Relationship': 'Friend', 'Address': [{'Home': {'Street': '456 Maple Avenue', 'State': {'Name': 'Illinois', 'Zip': '62701'}, 'City': 'Springfield', 'Country': 'USA'}}], 'ContactNumber': ['+12456327895']}}, 'HealthDetails': {'BloodGroup': 'O+', 'Height': '5ft', 'Weight': '60kg', 'BMI': {'Value': 22, 'Status': 'Normal'}, 'MedicalHistory': ['Asthma', 'Bad Teeth'], 'CurrentMedicalStatus': {'Reason': 'Fever,Malaria', 'Admitted': {'BuildingNumber': 'S3', 'WardNumber': '2', 'Type': 'General', 'DateofAdmit': '02/08/2024', 'DateofRelease': '02/18/2024'}, 'Payment': {'CreditCardNumber': '789545862543', 'Company': 'Bank Of America', 'ExpiryDate': '12/30', 'CVV': 789, 'Amount': 240, 'Status': 'Due'}, 'Pharmacy': {'Medicines': ['Litol', 'phosphase78', 'sugartui12'], 'Bill': {'Amount': 100, 'Paid': 'Yes'}}}}, 'InsuranceDetails': [{'PrimaryInsurance': {'InsuranceCompanyName': 'Healthcare', 'NameofInsured': 'Dobby Shashank', 'Relationship': 'Self', 'DOB': '01/01/2007', 'Policy#': 'AUHJ12345', 'SSN': '1238567894'}}, {'SecondaryInsurance': {'InsuranceCompanyName': 'MediLife', 'NameofInsured': 'Harry Potter', 'Relationship': 'Friend', 'DOB': '05/09/1999', 'Policy#': 'HPOTT654332', 'SSN': '12578456931'}}], 'DoctorAppointed': {'FirstName': 'Ashwini', 'LastName': 'Devi', 'Prefix': 'MD', 'ContactNumber': ['+130124568796'], 'Emailid': 'drashdevi23@gmail.com', 'HistoryWithPatient': {'AppointedDate': '02/01/2024', 'Follow-up': 'Yes', 'NextFollowup': '02/12/2024', 'FollowupEmailSent': 'No'}}, 'AdditionalDoctorApoointed': {'FirstName': 'Kinjal', 'LastName': 'Mehta', 'Prefix': 'Nutritionist', 'ContactNumber': ['+130124568796'], 'Emailid': 'kinjalthenutritionist@gmail.com', 'HistoryWithPatient': {'AppointedDate': '02/09/2024'}}}}\n",
      "{'_id': ObjectId('65c691bd1d998f9730c33249'), 'Patient': {'PersonalDetails': {'FirstName': 'Diana', 'LastName': 'Lewk', 'Age': 30, 'BirthDate': '03/03/1997', 'Sex': 'Female', 'Address': [{'Home': {'Street': '67 Pen Road', 'State': {'Name': 'Pennslvania', 'Zip': '20740'}, 'City': 'Hyattsvile', 'Country': 'USA'}}], 'ContactNumber': ['+12404821562'], 'Emailid': 'dianalooksgood@gmail.com', 'EmergencyContact': {'Dependent': 'No', 'GuardianFirstName': 'Jason', 'GuardianLastName': 'Lewk', 'Relationship': 'Father', 'Address': [{'Home': {'Street': '730 Lake Avenue', 'State': {'Name': 'Pennsalvania', 'Zip': '65423'}, 'City': 'Springfield', 'Country': 'USA'}}], 'ContactNumber': ['+12456327895']}}, 'HealthDetails': {'BloodGroup': 'AB+', 'Height': '6ft', 'Weight': '60kg', 'BMI': {'Value': 17.9, 'Status': 'Underweight'}, 'CurrentMedicalStatus': {'Reason': 'Migraine', 'Payment': {'CreditCardNumber': '789545862543', 'Company': 'Bank Of America', 'ExpiryDate': '12/30', 'CVV': 789, 'Amount': 100, 'Status': 'Paid'}, 'Pharmacy': {'Medicines': ['Crocin'], 'Bill': {'Value': '$10', 'Paid': 'Yes'}}}}, 'DoctorAppointed': {'FirstName': 'Ashwini', 'LastName': 'Devi', 'Prefix': 'MD', 'ContactNumber': ['+130124568796'], 'Emailid': 'drashdevi23@gmail.com', 'HistoryWithPatient': {'AppointedDate': '02/08/2024', 'Follow-up': 'Yes', 'NextFollowup': '02/18/2024', 'FollowupEmailSent': 'No'}}, 'AdditionalDoctorApoointed': {'FirstName': 'Kinjal', 'LastName': 'Mehta', 'Prefix': 'Nutritionist', 'ContactNumber': ['+130124568796'], 'Emailid': 'kinjalthenutritionist@gmail.com', 'HistoryWithPatient': {'AppointedDate': '02/09/2024'}}}}\n",
      "{'_id': ObjectId('65c691c51d998f9730c3324d'), 'Patient': {'PersonalDetails': {'FirstName': 'John', 'LastName': 'Doe', 'Age': 35, 'BirthDate': '05/20/1989', 'Sex': 'Male', 'Address': [{'Home': {'Street': '789 Oak Avenue', 'State': {'Name': 'Texas', 'Zip': '75001'}, 'City': 'Dallas', 'Country': 'USA'}}], 'ContactNumber': ['+15551234567'], 'Emailid': 'johndoe@example.com', 'EmergencyContact': {'Dependent': 'Yes', 'GuardianFirstName': 'Alice', 'GuardianLastName': 'Doe', 'Relationship': 'Spouse', 'Address': [{'Home': {'Street': '789 Oak Avenue', 'State': {'Name': 'Texas', 'Zip': '75001'}, 'City': 'Dallas', 'Country': 'USA'}}], 'ContactNumber': ['+15551234568']}}, 'HealthDetails': {'BloodGroup': 'AB-', 'Height': '6.2ft', 'Weight': '75kg', 'BMI': {'Value': 18.7, 'Status': 'Underweight'}, 'CurrentMedicalStatus': {'Reason': 'Respiratory infection', 'Payment': {'CreditCardNumber': '987654321098', 'Company': 'Wells Fargo', 'ExpiryDate': '03/27', 'CVV': 456, 'Amount': 300, 'Status': 'Paid'}, 'Admitted': {'BuildingNumber': 'C3', 'WardNumber': '8', 'Type': 'Isolation', 'DateofAdmit': '02/01/2024', 'DateofRelease': '02/12/2024', 'Note': 'Infection got severe'}, 'Pharmacy': {'Medicines': ['Antibiotics', 'Cough syrup'], 'Bill': {'Amount': 150, 'Paid': 'Yes'}}}}, 'DoctorAppointed': {'FirstName': 'David', 'LastName': 'Brown', 'Prefix': 'MD', 'ContactNumber': ['+16666666666'], 'Emailid': 'davidbrownmd@example.com', 'HistoryWithPatient': {'AppointedDate': '02/01/2024', 'Follow-up': 'Yes', 'NextFollowup': '02/10/2024', 'FollowupEmailSent': 'Yes'}}, 'AdditionalDoctorApoointed': {'FirstName': 'Kinjal', 'LastName': 'Mehta', 'Prefix': 'Nutritionist', 'ContactNumber': ['+130124568796'], 'Emailid': 'kinjalthenutritionist@gmail.com', 'HistoryWithPatient': {'AppointedDate': '02/09/2024'}}}}\n",
      "{'_id': ObjectId('65c691c51d998f9730c3324c'), 'Patient': {'PersonalDetails': {'FirstName': 'Sarah', 'LastName': 'Johnson', 'Age': 28, 'BirthDate': '09/15/1996', 'Sex': 'Female', 'Address': [{'Home': {'Street': '123 Pine Street', 'State': {'Name': 'California', 'Zip': '90210'}, 'City': 'Los Angeles', 'Country': 'USA'}}], 'ContactNumber': ['+13234567890'], 'Emailid': 'sarah.johnson@example.com', 'EmergencyContact': {'Dependent': 'No', 'GuardianFirstName': 'Michael', 'GuardianLastName': 'Johnson', 'Relationship': 'Brother', 'Address': [{'Home': {'Street': '123 Pine Street', 'State': {'Name': 'California', 'Zip': '90210'}, 'City': 'Los Angeles', 'Country': 'USA'}}], 'ContactNumber': ['+13234567891']}}, 'HealthDetails': {'BloodGroup': 'O+', 'Height': '5.8ft', 'Weight': '65kg', 'BMI': {'Value': 21.7, 'Status': 'Normal'}, 'CurrentMedicalStatus': {'Reason': 'Allergic reaction', 'Payment': {'CreditCardNumber': '456789012345', 'Company': 'Chase Bank', 'ExpiryDate': '09/25', 'CVV': 789, 'Amount': 500, 'Status': 'Due'}, 'Admitted': {'BuildingNumber': 'B2', 'WardNumber': '4', 'Type': 'Emergency', 'DateofAdmit': '02/05/2024', 'DateofRelease': '02/07/2024'}, 'Pharmacy': {'Medicines': ['Antihistamines', 'EpiPen'], 'Bill': {'Amount': 200, 'Paid': 'Yes'}}}}, 'DoctorAppointed': {'FirstName': 'Emily', 'LastName': 'Smith', 'Prefix': 'MD', 'ContactNumber': ['+14567890123'], 'Emailid': 'emilysmithmd@example.com', 'HistoryWithPatient': {'AppointedDate': '02/05/2024', 'Follow-up': 'No', 'NextFollowup': '', 'FollowupEmailSent': 'No'}}}}\n",
      "{'_id': ObjectId('65c691c51d998f9730c3324b'), 'Patient': {'PersonalDetails': {'FirstName': 'Ellen', 'LastName': 'Geller', 'Age': 45, 'BirthDate': '11/11/1980', 'Sex': 'Female', 'Address': [{'Home': {'Street': '90 Chilatey Ave', 'Apt': '4C', 'State': {'Name': 'Texas', 'Zip': '30258'}, 'City': 'Austin', 'Country': 'USA'}}], 'ContactNumber': ['+12404821562'], 'Emailid': 'ellenhere45@gmail.com', 'EmergencyContact': {'Dependent': 'No', 'GuardianFirstName': 'John', 'GuardianLastName': 'Geller', 'Relationship': 'Husband', 'Address': [{'Home': {'Street': '90 Chilatey Sve', 'Apt': '4C', 'State': {'Name': 'Texas', 'Zip': '30258'}, 'City': 'Austin', 'Country': 'USA'}}], 'ContactNumber': ['+12456327895']}}, 'HealthDetails': {'BloodGroup': 'B-', 'Height': '5.5ft', 'Weight': '60kg', 'BMI': {'Value': 22, 'Status': 'Normal'}, 'MedicalHistory': ['Eye Sight Loss', 'Back Pain'], 'CurrentMedicalStatus': {'Reason': 'Leg Pain', 'Payment': {'CreditCardNumber': '3214569786325416', 'Company': 'JP Morgan Chase', 'ExpiryDate': '10/35', 'CVV': 951, 'Amount': 50, 'Status': 'Paid'}, 'Pharmacy': {'Medicines': ['Pain Killers'], 'Bill': {'Amount': 10, 'Paid': 'Yes'}}}}, 'InsuranceDetails': [{'PrimaryInsurance': {'InsuranceCompanyName': 'Medicare', 'NameofInsured': 'John Geller', 'Relationship': 'Husband', 'DOB': '02/02/1970', 'Policy#': 'JG45697562', 'SSN': '7896541236589'}}], 'DoctorAppointed': {'FirstName': 'Gary', 'LastName': 'Magro', 'Prefix': 'OD', 'ContactNumber': ['+130124568796'], 'Emailid': 'garythebonedoctor@gmail.com', 'HistoryWithPatient': {'AppointedDate': '02/8/2024', 'Follow-up': 'No'}}}}\n",
      "{'_id': ObjectId('65c691bd1d998f9730c33248'), 'Patient': {'PersonalDetails': {'FirstName': 'Hermoine', 'LastName': 'Granger', 'Age': 22, 'BirthDate': '02/14/2003', 'Sex': 'Female', 'Address': [{'Home': {'Street': '7304 Dickinson Avenue', 'Apt': '3', 'State': {'Name': 'Maryland', 'Zip': '20740'}, 'City': 'College park', 'Country': 'USA'}}], 'ContactNumber': ['+12404821562', '+13015247896'], 'Emailid': 'leviossaa@gmail.com', 'EmergencyContact': {'Dependent': 'No', 'GuardianFirstName': 'Ron', 'GuardianLastName': 'Weasley', 'Relationship': 'Husband', 'Address': [{'Home': {'Street': '789 Oak Lane', 'State': {'Name': 'NewYork', 'Zip': '11518'}, 'City': 'Meadowbrook', 'Country': 'USA'}}], 'ContactNumber': ['+12456327895']}}, 'HealthDetails': {'BloodGroup': 'B+', 'Height': '5.5ft', 'Weight': '60kg', 'BMI': {'Value': 22, 'Status': 'Underweight'}, 'MedicalHistory': ['Depression', 'Mental Stress'], 'CurrentMedicalStatus': {'Reason': 'Stroke', 'Admitted': {'BuildingNumber': 'M1', 'WardNumber': '1', 'Type': 'Special', 'DateofAdmit': '01/08/2024', 'DateofRelease': '01/18/2024'}, 'Payment': {'CreditCardNumber': '9865785412367895', 'Company': 'JP Morgan Chase', 'ExpiryDate': '06/35', 'CVV': 951, 'Amount': 1000, 'Status': 'Due'}, 'Pharmacy': {'Medicines': ['Suphax32', 'Artisol89'], 'Bill': {'Amount': 50, 'Paid': 'Yes'}}}}, 'InsuranceDetails': [{'PrimaryInsurance': {'InsuranceCompanyName': 'MediCare', 'NameofInsured': 'Hermoine Granger', 'Relationship': 'Self', 'DOB': '02/14/2002', 'Policy#': 'HG45630989', 'SSN': '965432514785'}}], 'DoctorAppointed': {'FirstName': 'Margaret', 'LastName': 'Lenny', 'Prefix': 'Psy', 'ContactNumber': ['+12045632897'], 'Emailid': 'margaretlen34@gmail.com', 'HistoryWithPatient': {'AppointedDate': '01/08/2024', 'Follow-up': 'No', 'FollowupEmailSent': 'No'}}, 'AdditionalDoctorApoointed': {'FirstName': 'Kinjal', 'LastName': 'Mehta', 'Prefix': 'Nutritionist', 'ContactNumber': ['+130124568796'], 'Emailid': 'kinjalthenutritionist@gmail.com', 'HistoryWithPatient': {'AppointedDate': '02/09/2024'}}}}\n"
     ]
    }
   ],
   "source": [
    "results = hospital.find().sort([\"Patient.DoctorAppointed.FirstName\",(\"Patient.PersonalDetails.FirstName\",-1)])\n",
    "for result in results:\n",
    "    print(result)"
   ]
  },
  {
   "cell_type": "markdown",
   "id": "e2b126dc",
   "metadata": {},
   "source": [
    "#viii) 5 queries for using group by function with different aggregate functions for multiple fields (10 points)"
   ]
  },
  {
   "cell_type": "code",
   "execution_count": 12,
   "id": "738c0da7",
   "metadata": {},
   "outputs": [
    {
     "name": "stdout",
     "output_type": "stream",
     "text": [
      "{'_id': 'Gary', 'Average Pharmacy Bill': 10.0}\n",
      "{'_id': 'Ashwini', 'Average Pharmacy Bill': 100.0}\n",
      "{'_id': 'Emily', 'Average Pharmacy Bill': 200.0}\n",
      "{'_id': 'Margaret', 'Average Pharmacy Bill': 50.0}\n",
      "{'_id': 'David', 'Average Pharmacy Bill': 150.0}\n"
     ]
    }
   ],
   "source": [
    "results=hospital.aggregate([{\"$group\": {\"_id\": \"$Patient.DoctorAppointed.FirstName\", \n",
    "                                        \"Average Pharmacy Bill\": {\"$avg\":\"$Patient.HealthDetails.CurrentMedicalStatus.Pharmacy.Bill.Amount\"}}}])\n",
    "for result in results:\n",
    "    print(result)"
   ]
  },
  {
   "cell_type": "code",
   "execution_count": 24,
   "id": "407a82e3",
   "metadata": {},
   "outputs": [
    {
     "name": "stdout",
     "output_type": "stream",
     "text": [
      "{'_id': 'Ashwini', 'Total Payment Due': 240}\n",
      "{'_id': 'Emily', 'Total Payment Due': 500}\n",
      "{'_id': 'Margaret', 'Total Payment Due': 1000}\n"
     ]
    }
   ],
   "source": [
    "condition = [\n",
    "    {\"$match\":{\"Patient.HealthDetails.CurrentMedicalStatus.Payment.Status\":\"Due\"}},\n",
    "    {\"$group\":{\"_id\":\"$Patient.DoctorAppointed.FirstName\",\n",
    "                            \"Total Payment Due\":{\"$sum\":\"$Patient.HealthDetails.CurrentMedicalStatus.Payment.Amount\"}}}\n",
    "]\n",
    "results = hospital.aggregate(condition)\n",
    "for result in results:\n",
    "    print(result)"
   ]
  },
  {
   "cell_type": "code",
   "execution_count": 20,
   "id": "4d6e0083",
   "metadata": {},
   "outputs": [
    {
     "name": "stdout",
     "output_type": "stream",
     "text": [
      "{'_id': ['Female', 'Normal'], 'Total patients': 2}\n",
      "{'_id': ['Male', 'Normal'], 'Total patients': 1}\n",
      "{'_id': ['Female', 'Underweight'], 'Total patients': 2}\n",
      "{'_id': ['Male', 'Underweight'], 'Total patients': 1}\n"
     ]
    }
   ],
   "source": [
    "condition = [\n",
    "    {\"$group\":{\"_id\":[\"$Patient.PersonalDetails.Sex\",\"$Patient.HealthDetails.BMI.Status\"],\n",
    "              \"Total patients\":{\"$sum\":1}}}\n",
    "]\n",
    "results = hospital.aggregate(condition)\n",
    "for result in results:\n",
    "    print(result)"
   ]
  },
  {
   "cell_type": "code",
   "execution_count": 22,
   "id": "533b5910",
   "metadata": {},
   "outputs": [
    {
     "name": "stdout",
     "output_type": "stream",
     "text": [
      "{'_id': ['Margaret', 'Kinjal'], 'Total Patients': 1}\n",
      "{'_id': ['David', 'Kinjal'], 'Total Patients': 1}\n",
      "{'_id': ['Emily', None], 'Total Patients': 1}\n",
      "{'_id': ['Ashwini', 'Kinjal'], 'Total Patients': 2}\n",
      "{'_id': ['Gary', None], 'Total Patients': 1}\n"
     ]
    }
   ],
   "source": [
    "results = hospital.aggregate([{\"$group\":{\"_id\":[\"$Patient.DoctorAppointed.FirstName\",\"$Patient.AdditionalDoctorAppointed.FirstName\"],\n",
    "                                        \"Total Patients\":{\"$sum\":1}}}])\n",
    "for result in results:\n",
    "    print(result)"
   ]
  },
  {
   "cell_type": "code",
   "execution_count": 29,
   "id": "04c10e4e",
   "metadata": {},
   "outputs": [
    {
     "name": "stdout",
     "output_type": "stream",
     "text": [
      "{'_id': 'Yes', 'Number of Patients': 2}\n",
      "{'_id': 'No', 'Number of Patients': 4}\n"
     ]
    }
   ],
   "source": [
    "results = hospital.aggregate([{\"$group\":{\"_id\":\"$Patient.PersonalDetails.EmergencyContact.Dependent\",\n",
    "                             \"Number of Patients\":{\"$sum\":1}}}])\n",
    "for result in results:\n",
    "    print(result)"
   ]
  },
  {
   "cell_type": "code",
   "execution_count": 32,
   "id": "cbcba3fc",
   "metadata": {},
   "outputs": [
    {
     "name": "stdout",
     "output_type": "stream",
     "text": [
      "{'_id': 'B+', 'Total Patients': 1}\n",
      "{'_id': 'AB+', 'Total Patients': 1}\n",
      "{'_id': 'B-', 'Total Patients': 1}\n",
      "{'_id': 'O+', 'Total Patients': 2}\n",
      "{'_id': 'AB-', 'Total Patients': 1}\n"
     ]
    }
   ],
   "source": [
    "results = hospital.aggregate([{\"$group\":{\"_id\":\"$Patient.HealthDetails.BloodGroup\",\n",
    "                                       \"Total Patients\":{\"$sum\":1}}}])\n",
    "for result in results:\n",
    "    print(result)"
   ]
  },
  {
   "cell_type": "markdown",
   "id": "92edd79c",
   "metadata": {},
   "source": [
    "#ix) Any 2 queries for searching multiple documents based on multiple nested fields using relational and logical operators (4 points)"
   ]
  },
  {
   "cell_type": "code",
   "execution_count": 30,
   "id": "6e9d8093",
   "metadata": {},
   "outputs": [
    {
     "name": "stdout",
     "output_type": "stream",
     "text": [
      "{'_id': ObjectId('65c691bd1d998f9730c33247'), 'Patient': {'PersonalDetails': {'FirstName': 'Dobby', 'LastName': 'Sky', 'Age': 18, 'BirthDate': '01/01/2007', 'Sex': 'Male', 'Address': [{'Home': {'Street': '123 Elm Street', 'State': {'Name': 'Illinois', 'Zip': '62701'}, 'City': 'Springfield', 'Country': 'USA'}}], 'ContactNumber': ['+12404821562', '+13015247896'], 'Emailid': 'dobbyisfree@gmail.com', 'EmergencyContact': {'Dependent': 'Yes', 'GuardianFirstName': 'Harry', 'GuardianLastName': 'Potter', 'Relationship': 'Friend', 'Address': [{'Home': {'Street': '456 Maple Avenue', 'State': {'Name': 'Illinois', 'Zip': '62701'}, 'City': 'Springfield', 'Country': 'USA'}}], 'ContactNumber': ['+12456327895']}}, 'HealthDetails': {'BloodGroup': 'O+', 'Height': '5ft', 'Weight': '60kg', 'BMI': {'Value': 22, 'Status': 'Normal'}, 'MedicalHistory': ['Asthma', 'Bad Teeth'], 'CurrentMedicalStatus': {'Reason': 'Fever,Malaria', 'Admitted': {'BuildingNumber': 'S3', 'WardNumber': '2', 'Type': 'General', 'DateofAdmit': '02/08/2024', 'DateofRelease': '02/18/2024'}, 'Payment': {'CreditCardNumber': '789545862543', 'Company': 'Bank Of America', 'ExpiryDate': '12/30', 'CVV': 789, 'Amount': 240, 'Status': 'Due'}, 'Pharmacy': {'Medicines': ['Litol', 'phosphase78', 'sugartui12'], 'Bill': {'Amount': 100, 'Paid': 'Yes'}}}}, 'InsuranceDetails': [{'PrimaryInsurance': {'InsuranceCompanyName': 'Healthcare', 'NameofInsured': 'Dobby Shashank', 'Relationship': 'Self', 'DOB': '01/01/2007', 'Policy#': 'AUHJ12345', 'SSN': '1238567894'}}, {'SecondaryInsurance': {'InsuranceCompanyName': 'MediLife', 'NameofInsured': 'Harry Potter', 'Relationship': 'Friend', 'DOB': '05/09/1999', 'Policy#': 'HPOTT654332', 'SSN': '12578456931'}}], 'DoctorAppointed': {'FirstName': 'Ashwini', 'LastName': 'Devi', 'Prefix': 'MD', 'ContactNumber': ['+130124568796'], 'Emailid': 'drashdevi23@gmail.com', 'HistoryWithPatient': {'AppointedDate': '02/01/2024', 'Follow-up': 'Yes', 'NextFollowup': '02/12/2024', 'FollowupEmailSent': 'No'}}, 'AdditionalDoctorApoointed': {'FirstName': 'Kinjal', 'LastName': 'Mehta', 'Prefix': 'Nutritionist', 'ContactNumber': ['+130124568796'], 'Emailid': 'kinjalthenutritionist@gmail.com', 'HistoryWithPatient': {'AppointedDate': '02/09/2024'}}}}\n",
      "{'_id': ObjectId('65c691c51d998f9730c3324d'), 'Patient': {'PersonalDetails': {'FirstName': 'John', 'LastName': 'Doe', 'Age': 35, 'BirthDate': '05/20/1989', 'Sex': 'Male', 'Address': [{'Home': {'Street': '789 Oak Avenue', 'State': {'Name': 'Texas', 'Zip': '75001'}, 'City': 'Dallas', 'Country': 'USA'}}], 'ContactNumber': ['+15551234567'], 'Emailid': 'johndoe@example.com', 'EmergencyContact': {'Dependent': 'Yes', 'GuardianFirstName': 'Alice', 'GuardianLastName': 'Doe', 'Relationship': 'Spouse', 'Address': [{'Home': {'Street': '789 Oak Avenue', 'State': {'Name': 'Texas', 'Zip': '75001'}, 'City': 'Dallas', 'Country': 'USA'}}], 'ContactNumber': ['+15551234568']}}, 'HealthDetails': {'BloodGroup': 'AB-', 'Height': '6.2ft', 'Weight': '75kg', 'BMI': {'Value': 18.7, 'Status': 'Underweight'}, 'CurrentMedicalStatus': {'Reason': 'Respiratory infection', 'Payment': {'CreditCardNumber': '987654321098', 'Company': 'Wells Fargo', 'ExpiryDate': '03/27', 'CVV': 456, 'Amount': 300, 'Status': 'Paid'}, 'Admitted': {'BuildingNumber': 'C3', 'WardNumber': '8', 'Type': 'Isolation', 'DateofAdmit': '02/01/2024', 'DateofRelease': '02/12/2024', 'Note': 'Infection got severe'}, 'Pharmacy': {'Medicines': ['Antibiotics', 'Cough syrup'], 'Bill': {'Amount': 150, 'Paid': 'Yes'}}}}, 'DoctorAppointed': {'FirstName': 'David', 'LastName': 'Brown', 'Prefix': 'MD', 'ContactNumber': ['+16666666666'], 'Emailid': 'davidbrownmd@example.com', 'HistoryWithPatient': {'AppointedDate': '02/01/2024', 'Follow-up': 'Yes', 'NextFollowup': '02/10/2024', 'FollowupEmailSent': 'Yes'}}, 'AdditionalDoctorApoointed': {'FirstName': 'Kinjal', 'LastName': 'Mehta', 'Prefix': 'Nutritionist', 'ContactNumber': ['+130124568796'], 'Emailid': 'kinjalthenutritionist@gmail.com', 'HistoryWithPatient': {'AppointedDate': '02/09/2024'}}}}\n"
     ]
    }
   ],
   "source": [
    "results = hospital.find({\"$and\":[{\"Patient.PersonalDetails.Sex\":\"Male\"}],\n",
    "              \"$or\":[{\"Patient.DoctorAppointed.FirstName\":\"Ashwini\"},{\"Patient.AdditionalDoctorAppointed.FirstName\":\"Kinjal\"}]}).sort(\"Patient.PersonalDetails.FirstName\")\n",
    "for result in results:\n",
    "    print(result)"
   ]
  },
  {
   "cell_type": "code",
   "execution_count": 34,
   "id": "b0a7089a",
   "metadata": {},
   "outputs": [
    {
     "name": "stdout",
     "output_type": "stream",
     "text": [
      "{'_id': ObjectId('65c691bd1d998f9730c33247'), 'Patient': {'PersonalDetails': {'FirstName': 'Dobby', 'LastName': 'Sky', 'Age': 18, 'BirthDate': '01/01/2007', 'Sex': 'Male', 'Address': [{'Home': {'Street': '123 Elm Street', 'State': {'Name': 'Illinois', 'Zip': '62701'}, 'City': 'Springfield', 'Country': 'USA'}}], 'ContactNumber': ['+12404821562', '+13015247896'], 'Emailid': 'dobbyisfree@gmail.com', 'EmergencyContact': {'Dependent': 'Yes', 'GuardianFirstName': 'Harry', 'GuardianLastName': 'Potter', 'Relationship': 'Friend', 'Address': [{'Home': {'Street': '456 Maple Avenue', 'State': {'Name': 'Illinois', 'Zip': '62701'}, 'City': 'Springfield', 'Country': 'USA'}}], 'ContactNumber': ['+12456327895']}}, 'HealthDetails': {'BloodGroup': 'O+', 'Height': '5ft', 'Weight': '60kg', 'BMI': {'Value': 22, 'Status': 'Normal'}, 'MedicalHistory': ['Asthma', 'Bad Teeth'], 'CurrentMedicalStatus': {'Reason': 'Fever,Malaria', 'Admitted': {'BuildingNumber': 'S3', 'WardNumber': '2', 'Type': 'General', 'DateofAdmit': '02/08/2024', 'DateofRelease': '02/18/2024'}, 'Payment': {'CreditCardNumber': '789545862543', 'Company': 'Bank Of America', 'ExpiryDate': '12/30', 'CVV': 789, 'Amount': 240, 'Status': 'Due'}, 'Pharmacy': {'Medicines': ['Litol', 'phosphase78', 'sugartui12'], 'Bill': {'Amount': 100, 'Paid': 'Yes'}}}}, 'InsuranceDetails': [{'PrimaryInsurance': {'InsuranceCompanyName': 'Healthcare', 'NameofInsured': 'Dobby Shashank', 'Relationship': 'Self', 'DOB': '01/01/2007', 'Policy#': 'AUHJ12345', 'SSN': '1238567894'}}, {'SecondaryInsurance': {'InsuranceCompanyName': 'MediLife', 'NameofInsured': 'Harry Potter', 'Relationship': 'Friend', 'DOB': '05/09/1999', 'Policy#': 'HPOTT654332', 'SSN': '12578456931'}}], 'DoctorAppointed': {'FirstName': 'Ashwini', 'LastName': 'Devi', 'Prefix': 'MD', 'ContactNumber': ['+130124568796'], 'Emailid': 'drashdevi23@gmail.com', 'HistoryWithPatient': {'AppointedDate': '02/01/2024', 'Follow-up': 'Yes', 'NextFollowup': '02/12/2024', 'FollowupEmailSent': 'No'}}, 'AdditionalDoctorApoointed': {'FirstName': 'Kinjal', 'LastName': 'Mehta', 'Prefix': 'Nutritionist', 'ContactNumber': ['+130124568796'], 'Emailid': 'kinjalthenutritionist@gmail.com', 'HistoryWithPatient': {'AppointedDate': '02/09/2024'}}}}\n",
      "{'_id': ObjectId('65c691c51d998f9730c3324c'), 'Patient': {'PersonalDetails': {'FirstName': 'Sarah', 'LastName': 'Johnson', 'Age': 28, 'BirthDate': '09/15/1996', 'Sex': 'Female', 'Address': [{'Home': {'Street': '123 Pine Street', 'State': {'Name': 'California', 'Zip': '90210'}, 'City': 'Los Angeles', 'Country': 'USA'}}], 'ContactNumber': ['+13234567890'], 'Emailid': 'sarah.johnson@example.com', 'EmergencyContact': {'Dependent': 'No', 'GuardianFirstName': 'Michael', 'GuardianLastName': 'Johnson', 'Relationship': 'Brother', 'Address': [{'Home': {'Street': '123 Pine Street', 'State': {'Name': 'California', 'Zip': '90210'}, 'City': 'Los Angeles', 'Country': 'USA'}}], 'ContactNumber': ['+13234567891']}}, 'HealthDetails': {'BloodGroup': 'O+', 'Height': '5.8ft', 'Weight': '65kg', 'BMI': {'Value': 21.7, 'Status': 'Normal'}, 'CurrentMedicalStatus': {'Reason': 'Allergic reaction', 'Payment': {'CreditCardNumber': '456789012345', 'Company': 'Chase Bank', 'ExpiryDate': '09/25', 'CVV': 789, 'Amount': 500, 'Status': 'Due'}, 'Admitted': {'BuildingNumber': 'B2', 'WardNumber': '4', 'Type': 'Emergency', 'DateofAdmit': '02/05/2024', 'DateofRelease': '02/07/2024'}, 'Pharmacy': {'Medicines': ['Antihistamines', 'EpiPen'], 'Bill': {'Amount': 200, 'Paid': 'Yes'}}}}, 'DoctorAppointed': {'FirstName': 'Emily', 'LastName': 'Smith', 'Prefix': 'MD', 'ContactNumber': ['+14567890123'], 'Emailid': 'emilysmithmd@example.com', 'HistoryWithPatient': {'AppointedDate': '02/05/2024', 'Follow-up': 'No', 'NextFollowup': '', 'FollowupEmailSent': 'No'}}}}\n"
     ]
    }
   ],
   "source": [
    "results = hospital.find({\"Patient.HealthDetails.CurrentMedicalStatus.Payment.Amount\":{\"$lt\":800},\"Patient.HealthDetails.CurrentMedicalStatus.Payment.Status\":\"Due\"})\n",
    "\n",
    "for result in results:\n",
    "    print(result)"
   ]
  },
  {
   "cell_type": "code",
   "execution_count": null,
   "id": "a5b4ed59",
   "metadata": {},
   "outputs": [],
   "source": []
  }
 ],
 "metadata": {
  "kernelspec": {
   "display_name": "Python 3 (ipykernel)",
   "language": "python",
   "name": "python3"
  },
  "language_info": {
   "codemirror_mode": {
    "name": "ipython",
    "version": 3
   },
   "file_extension": ".py",
   "mimetype": "text/x-python",
   "name": "python",
   "nbconvert_exporter": "python",
   "pygments_lexer": "ipython3",
   "version": "3.11.4"
  }
 },
 "nbformat": 4,
 "nbformat_minor": 5
}
